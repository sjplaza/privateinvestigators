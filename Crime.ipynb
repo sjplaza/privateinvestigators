{
 "cells": [
  {
   "cell_type": "code",
   "execution_count": 3,
   "metadata": {},
   "outputs": [],
   "source": [
    "#import dependencies\n",
    "import pandas as pd\n",
    "import matplotlib.pyplot as plt\n",
    "import numpy as np\n",
    "import datetime as dt\n",
    "import random\n",
    "import warnings\n",
    "\n",
    "warnings.filterwarnings(\"ignore\")"
   ]
  },
  {
   "cell_type": "code",
   "execution_count": 4,
   "metadata": {},
   "outputs": [
    {
     "data": {
      "text/html": [
       "<div>\n",
       "<style scoped>\n",
       "    .dataframe tbody tr th:only-of-type {\n",
       "        vertical-align: middle;\n",
       "    }\n",
       "\n",
       "    .dataframe tbody tr th {\n",
       "        vertical-align: top;\n",
       "    }\n",
       "\n",
       "    .dataframe thead th {\n",
       "        text-align: right;\n",
       "    }\n",
       "</style>\n",
       "<table border=\"1\" class=\"dataframe\">\n",
       "  <thead>\n",
       "    <tr style=\"text-align: right;\">\n",
       "      <th></th>\n",
       "      <th>INCIDENT_ID</th>\n",
       "      <th>DATA_YEAR</th>\n",
       "      <th>ORI</th>\n",
       "      <th>PUB_AGENCY_NAME</th>\n",
       "      <th>PUB_AGENCY_UNIT</th>\n",
       "      <th>AGENCY_TYPE_NAME</th>\n",
       "      <th>STATE_ABBR</th>\n",
       "      <th>STATE_NAME</th>\n",
       "      <th>DIVISION_NAME</th>\n",
       "      <th>REGION_NAME</th>\n",
       "      <th>...</th>\n",
       "      <th>OFFENDER_RACE</th>\n",
       "      <th>OFFENDER_ETHNICITY</th>\n",
       "      <th>VICTIM_COUNT</th>\n",
       "      <th>OFFENSE_NAME</th>\n",
       "      <th>TOTAL_INDIVIDUAL_VICTIMS</th>\n",
       "      <th>LOCATION_NAME</th>\n",
       "      <th>BIAS_DESC</th>\n",
       "      <th>VICTIM_TYPES</th>\n",
       "      <th>MULTIPLE_OFFENSE</th>\n",
       "      <th>MULTIPLE_BIAS</th>\n",
       "    </tr>\n",
       "  </thead>\n",
       "  <tbody>\n",
       "    <tr>\n",
       "      <th>0</th>\n",
       "      <td>3015</td>\n",
       "      <td>1991</td>\n",
       "      <td>AR0040200</td>\n",
       "      <td>Rogers</td>\n",
       "      <td>NaN</td>\n",
       "      <td>City</td>\n",
       "      <td>AR</td>\n",
       "      <td>Arkansas</td>\n",
       "      <td>West South Central</td>\n",
       "      <td>South</td>\n",
       "      <td>...</td>\n",
       "      <td>White</td>\n",
       "      <td>NaN</td>\n",
       "      <td>1</td>\n",
       "      <td>Intimidation</td>\n",
       "      <td>1.0</td>\n",
       "      <td>Highway/Road/Alley/Street/Sidewalk</td>\n",
       "      <td>Anti-Black or African American</td>\n",
       "      <td>Individual</td>\n",
       "      <td>S</td>\n",
       "      <td>S</td>\n",
       "    </tr>\n",
       "    <tr>\n",
       "      <th>1</th>\n",
       "      <td>3016</td>\n",
       "      <td>1991</td>\n",
       "      <td>AR0290100</td>\n",
       "      <td>Hope</td>\n",
       "      <td>NaN</td>\n",
       "      <td>City</td>\n",
       "      <td>AR</td>\n",
       "      <td>Arkansas</td>\n",
       "      <td>West South Central</td>\n",
       "      <td>South</td>\n",
       "      <td>...</td>\n",
       "      <td>Black or African American</td>\n",
       "      <td>NaN</td>\n",
       "      <td>1</td>\n",
       "      <td>Simple Assault</td>\n",
       "      <td>1.0</td>\n",
       "      <td>Highway/Road/Alley/Street/Sidewalk</td>\n",
       "      <td>Anti-White</td>\n",
       "      <td>Individual</td>\n",
       "      <td>S</td>\n",
       "      <td>S</td>\n",
       "    </tr>\n",
       "    <tr>\n",
       "      <th>2</th>\n",
       "      <td>43</td>\n",
       "      <td>1991</td>\n",
       "      <td>AR0350100</td>\n",
       "      <td>Pine Bluff</td>\n",
       "      <td>NaN</td>\n",
       "      <td>City</td>\n",
       "      <td>AR</td>\n",
       "      <td>Arkansas</td>\n",
       "      <td>West South Central</td>\n",
       "      <td>South</td>\n",
       "      <td>...</td>\n",
       "      <td>Black or African American</td>\n",
       "      <td>NaN</td>\n",
       "      <td>1</td>\n",
       "      <td>Aggravated Assault</td>\n",
       "      <td>1.0</td>\n",
       "      <td>Residence/Home</td>\n",
       "      <td>Anti-Black or African American</td>\n",
       "      <td>Individual</td>\n",
       "      <td>S</td>\n",
       "      <td>S</td>\n",
       "    </tr>\n",
       "    <tr>\n",
       "      <th>3</th>\n",
       "      <td>44</td>\n",
       "      <td>1991</td>\n",
       "      <td>AR0350100</td>\n",
       "      <td>Pine Bluff</td>\n",
       "      <td>NaN</td>\n",
       "      <td>City</td>\n",
       "      <td>AR</td>\n",
       "      <td>Arkansas</td>\n",
       "      <td>West South Central</td>\n",
       "      <td>South</td>\n",
       "      <td>...</td>\n",
       "      <td>Black or African American</td>\n",
       "      <td>NaN</td>\n",
       "      <td>2</td>\n",
       "      <td>Aggravated Assault;Destruction/Damage/Vandalis...</td>\n",
       "      <td>1.0</td>\n",
       "      <td>Highway/Road/Alley/Street/Sidewalk</td>\n",
       "      <td>Anti-White</td>\n",
       "      <td>Individual</td>\n",
       "      <td>M</td>\n",
       "      <td>S</td>\n",
       "    </tr>\n",
       "    <tr>\n",
       "      <th>4</th>\n",
       "      <td>3017</td>\n",
       "      <td>1991</td>\n",
       "      <td>AR0350100</td>\n",
       "      <td>Pine Bluff</td>\n",
       "      <td>NaN</td>\n",
       "      <td>City</td>\n",
       "      <td>AR</td>\n",
       "      <td>Arkansas</td>\n",
       "      <td>West South Central</td>\n",
       "      <td>South</td>\n",
       "      <td>...</td>\n",
       "      <td>Black or African American</td>\n",
       "      <td>NaN</td>\n",
       "      <td>1</td>\n",
       "      <td>Aggravated Assault</td>\n",
       "      <td>1.0</td>\n",
       "      <td>Service/Gas Station</td>\n",
       "      <td>Anti-White</td>\n",
       "      <td>Individual</td>\n",
       "      <td>S</td>\n",
       "      <td>S</td>\n",
       "    </tr>\n",
       "  </tbody>\n",
       "</table>\n",
       "<p>5 rows × 28 columns</p>\n",
       "</div>"
      ],
      "text/plain": [
       "   INCIDENT_ID  DATA_YEAR        ORI PUB_AGENCY_NAME PUB_AGENCY_UNIT  \\\n",
       "0         3015       1991  AR0040200          Rogers             NaN   \n",
       "1         3016       1991  AR0290100            Hope             NaN   \n",
       "2           43       1991  AR0350100      Pine Bluff             NaN   \n",
       "3           44       1991  AR0350100      Pine Bluff             NaN   \n",
       "4         3017       1991  AR0350100      Pine Bluff             NaN   \n",
       "\n",
       "  AGENCY_TYPE_NAME STATE_ABBR STATE_NAME       DIVISION_NAME REGION_NAME  ...  \\\n",
       "0             City         AR   Arkansas  West South Central       South  ...   \n",
       "1             City         AR   Arkansas  West South Central       South  ...   \n",
       "2             City         AR   Arkansas  West South Central       South  ...   \n",
       "3             City         AR   Arkansas  West South Central       South  ...   \n",
       "4             City         AR   Arkansas  West South Central       South  ...   \n",
       "\n",
       "               OFFENDER_RACE OFFENDER_ETHNICITY VICTIM_COUNT  \\\n",
       "0                      White                NaN            1   \n",
       "1  Black or African American                NaN            1   \n",
       "2  Black or African American                NaN            1   \n",
       "3  Black or African American                NaN            2   \n",
       "4  Black or African American                NaN            1   \n",
       "\n",
       "                                        OFFENSE_NAME  \\\n",
       "0                                       Intimidation   \n",
       "1                                     Simple Assault   \n",
       "2                                 Aggravated Assault   \n",
       "3  Aggravated Assault;Destruction/Damage/Vandalis...   \n",
       "4                                 Aggravated Assault   \n",
       "\n",
       "   TOTAL_INDIVIDUAL_VICTIMS                       LOCATION_NAME  \\\n",
       "0                       1.0  Highway/Road/Alley/Street/Sidewalk   \n",
       "1                       1.0  Highway/Road/Alley/Street/Sidewalk   \n",
       "2                       1.0                      Residence/Home   \n",
       "3                       1.0  Highway/Road/Alley/Street/Sidewalk   \n",
       "4                       1.0                 Service/Gas Station   \n",
       "\n",
       "                        BIAS_DESC  VICTIM_TYPES MULTIPLE_OFFENSE MULTIPLE_BIAS  \n",
       "0  Anti-Black or African American    Individual                S             S  \n",
       "1                      Anti-White    Individual                S             S  \n",
       "2  Anti-Black or African American    Individual                S             S  \n",
       "3                      Anti-White    Individual                M             S  \n",
       "4                      Anti-White    Individual                S             S  \n",
       "\n",
       "[5 rows x 28 columns]"
      ]
     },
     "execution_count": 4,
     "metadata": {},
     "output_type": "execute_result"
    }
   ],
   "source": [
    "#file path to csv\n",
    "hate_crime_csv = \"Resources/hate_crime.csv\"\n",
    "#import csv to dataframe\n",
    "hate_crime_df = pd.read_csv(hate_crime_csv, low_memory = False)\n",
    "hate_crime_df.head()"
   ]
  },
  {
   "cell_type": "code",
   "execution_count": 5,
   "metadata": {
    "scrolled": true
   },
   "outputs": [
    {
     "data": {
      "text/html": [
       "<div>\n",
       "<style scoped>\n",
       "    .dataframe tbody tr th:only-of-type {\n",
       "        vertical-align: middle;\n",
       "    }\n",
       "\n",
       "    .dataframe tbody tr th {\n",
       "        vertical-align: top;\n",
       "    }\n",
       "\n",
       "    .dataframe thead th {\n",
       "        text-align: right;\n",
       "    }\n",
       "</style>\n",
       "<table border=\"1\" class=\"dataframe\">\n",
       "  <thead>\n",
       "    <tr style=\"text-align: right;\">\n",
       "      <th></th>\n",
       "      <th>DATA_YEAR</th>\n",
       "      <th>REGION_NAME</th>\n",
       "      <th>INCIDENT_DATE</th>\n",
       "      <th>OFFENSE_NAME</th>\n",
       "      <th>BIAS_DESC</th>\n",
       "    </tr>\n",
       "  </thead>\n",
       "  <tbody>\n",
       "    <tr>\n",
       "      <th>0</th>\n",
       "      <td>1991</td>\n",
       "      <td>South</td>\n",
       "      <td>31-AUG-91</td>\n",
       "      <td>Intimidation</td>\n",
       "      <td>Anti-Black or African American</td>\n",
       "    </tr>\n",
       "    <tr>\n",
       "      <th>1</th>\n",
       "      <td>1991</td>\n",
       "      <td>South</td>\n",
       "      <td>19-SEP-91</td>\n",
       "      <td>Simple Assault</td>\n",
       "      <td>Anti-White</td>\n",
       "    </tr>\n",
       "    <tr>\n",
       "      <th>2</th>\n",
       "      <td>1991</td>\n",
       "      <td>South</td>\n",
       "      <td>04-JUL-91</td>\n",
       "      <td>Aggravated Assault</td>\n",
       "      <td>Anti-Black or African American</td>\n",
       "    </tr>\n",
       "    <tr>\n",
       "      <th>3</th>\n",
       "      <td>1991</td>\n",
       "      <td>South</td>\n",
       "      <td>24-DEC-91</td>\n",
       "      <td>Aggravated Assault;Destruction/Damage/Vandalis...</td>\n",
       "      <td>Anti-White</td>\n",
       "    </tr>\n",
       "    <tr>\n",
       "      <th>4</th>\n",
       "      <td>1991</td>\n",
       "      <td>South</td>\n",
       "      <td>23-DEC-91</td>\n",
       "      <td>Aggravated Assault</td>\n",
       "      <td>Anti-White</td>\n",
       "    </tr>\n",
       "  </tbody>\n",
       "</table>\n",
       "</div>"
      ],
      "text/plain": [
       "   DATA_YEAR REGION_NAME INCIDENT_DATE  \\\n",
       "0       1991       South     31-AUG-91   \n",
       "1       1991       South     19-SEP-91   \n",
       "2       1991       South     04-JUL-91   \n",
       "3       1991       South     24-DEC-91   \n",
       "4       1991       South     23-DEC-91   \n",
       "\n",
       "                                        OFFENSE_NAME  \\\n",
       "0                                       Intimidation   \n",
       "1                                     Simple Assault   \n",
       "2                                 Aggravated Assault   \n",
       "3  Aggravated Assault;Destruction/Damage/Vandalis...   \n",
       "4                                 Aggravated Assault   \n",
       "\n",
       "                        BIAS_DESC  \n",
       "0  Anti-Black or African American  \n",
       "1                      Anti-White  \n",
       "2  Anti-Black or African American  \n",
       "3                      Anti-White  \n",
       "4                      Anti-White  "
      ]
     },
     "execution_count": 5,
     "metadata": {},
     "output_type": "execute_result"
    }
   ],
   "source": [
    "#filter data to reflect needed info\n",
    "filtered_df = hate_crime_df[[\"DATA_YEAR\", \"REGION_NAME\",\"INCIDENT_DATE\",\"OFFENSE_NAME\",\"BIAS_DESC\"]]\n",
    "\n",
    "filtered_df.head()"
   ]
  },
  {
   "cell_type": "code",
   "execution_count": 6,
   "metadata": {},
   "outputs": [],
   "source": [
    "#filter data by year in DataFrames\n",
    "year_filter = filtered_df[(filtered_df[\"DATA_YEAR\"]>= 2014) & (hate_crime_df[\"DATA_YEAR\"] <= 2018)]"
   ]
  },
  {
   "cell_type": "code",
   "execution_count": 7,
   "metadata": {},
   "outputs": [
    {
     "data": {
      "text/html": [
       "<div>\n",
       "<style scoped>\n",
       "    .dataframe tbody tr th:only-of-type {\n",
       "        vertical-align: middle;\n",
       "    }\n",
       "\n",
       "    .dataframe tbody tr th {\n",
       "        vertical-align: top;\n",
       "    }\n",
       "\n",
       "    .dataframe thead th {\n",
       "        text-align: right;\n",
       "    }\n",
       "</style>\n",
       "<table border=\"1\" class=\"dataframe\">\n",
       "  <thead>\n",
       "    <tr style=\"text-align: right;\">\n",
       "      <th></th>\n",
       "      <th>DATA_YEAR</th>\n",
       "      <th>REGION_NAME</th>\n",
       "      <th>INCIDENT_DATE</th>\n",
       "      <th>OFFENSE_NAME</th>\n",
       "      <th>BIAS_DESC</th>\n",
       "      <th>Quarter</th>\n",
       "    </tr>\n",
       "  </thead>\n",
       "  <tbody>\n",
       "    <tr>\n",
       "      <th>169146</th>\n",
       "      <td>2014</td>\n",
       "      <td>West</td>\n",
       "      <td>2014-12-06</td>\n",
       "      <td>Destruction/Damage/Vandalism of Property</td>\n",
       "      <td>Anti-Gay (Male)</td>\n",
       "      <td>4</td>\n",
       "    </tr>\n",
       "    <tr>\n",
       "      <th>169147</th>\n",
       "      <td>2014</td>\n",
       "      <td>West</td>\n",
       "      <td>2014-07-18</td>\n",
       "      <td>Aggravated Assault</td>\n",
       "      <td>Anti-American Indian or Alaska Native</td>\n",
       "      <td>3</td>\n",
       "    </tr>\n",
       "    <tr>\n",
       "      <th>169148</th>\n",
       "      <td>2014</td>\n",
       "      <td>West</td>\n",
       "      <td>2014-07-09</td>\n",
       "      <td>Simple Assault</td>\n",
       "      <td>Anti-Black or African American</td>\n",
       "      <td>3</td>\n",
       "    </tr>\n",
       "    <tr>\n",
       "      <th>169149</th>\n",
       "      <td>2014</td>\n",
       "      <td>West</td>\n",
       "      <td>2014-09-26</td>\n",
       "      <td>Robbery</td>\n",
       "      <td>Anti-American Indian or Alaska Native</td>\n",
       "      <td>3</td>\n",
       "    </tr>\n",
       "    <tr>\n",
       "      <th>169150</th>\n",
       "      <td>2014</td>\n",
       "      <td>West</td>\n",
       "      <td>2014-09-30</td>\n",
       "      <td>Simple Assault</td>\n",
       "      <td>Anti-American Indian or Alaska Native</td>\n",
       "      <td>3</td>\n",
       "    </tr>\n",
       "  </tbody>\n",
       "</table>\n",
       "</div>"
      ],
      "text/plain": [
       "        DATA_YEAR REGION_NAME INCIDENT_DATE  \\\n",
       "169146       2014        West    2014-12-06   \n",
       "169147       2014        West    2014-07-18   \n",
       "169148       2014        West    2014-07-09   \n",
       "169149       2014        West    2014-09-26   \n",
       "169150       2014        West    2014-09-30   \n",
       "\n",
       "                                    OFFENSE_NAME  \\\n",
       "169146  Destruction/Damage/Vandalism of Property   \n",
       "169147                        Aggravated Assault   \n",
       "169148                            Simple Assault   \n",
       "169149                                   Robbery   \n",
       "169150                            Simple Assault   \n",
       "\n",
       "                                    BIAS_DESC  Quarter  \n",
       "169146                        Anti-Gay (Male)        4  \n",
       "169147  Anti-American Indian or Alaska Native        3  \n",
       "169148         Anti-Black or African American        3  \n",
       "169149  Anti-American Indian or Alaska Native        3  \n",
       "169150  Anti-American Indian or Alaska Native        3  "
      ]
     },
     "execution_count": 7,
     "metadata": {},
     "output_type": "execute_result"
    }
   ],
   "source": [
    "#Determine Quarter for the data \n",
    "year_filter[\"INCIDENT_DATE\"] = pd.to_datetime(year_filter[\"INCIDENT_DATE\"])\n",
    "year_filter['Quarter'] = year_filter['INCIDENT_DATE'].dt.quarter\n",
    "\n",
    "year_filter.head()"
   ]
  },
  {
   "cell_type": "markdown",
   "metadata": {},
   "source": [
    "Quarter 1 2014-2018"
   ]
  },
  {
   "cell_type": "code",
   "execution_count": 8,
   "metadata": {},
   "outputs": [
    {
     "data": {
      "text/html": [
       "<div>\n",
       "<style scoped>\n",
       "    .dataframe tbody tr th:only-of-type {\n",
       "        vertical-align: middle;\n",
       "    }\n",
       "\n",
       "    .dataframe tbody tr th {\n",
       "        vertical-align: top;\n",
       "    }\n",
       "\n",
       "    .dataframe thead th {\n",
       "        text-align: right;\n",
       "    }\n",
       "</style>\n",
       "<table border=\"1\" class=\"dataframe\">\n",
       "  <thead>\n",
       "    <tr style=\"text-align: right;\">\n",
       "      <th></th>\n",
       "      <th>DATA_YEAR</th>\n",
       "      <th>REGION_NAME</th>\n",
       "      <th>INCIDENT_DATE</th>\n",
       "      <th>OFFENSE_NAME</th>\n",
       "      <th>BIAS_DESC</th>\n",
       "      <th>Quarter</th>\n",
       "    </tr>\n",
       "  </thead>\n",
       "  <tbody>\n",
       "    <tr>\n",
       "      <th>169153</th>\n",
       "      <td>2014</td>\n",
       "      <td>South</td>\n",
       "      <td>2014-03-22</td>\n",
       "      <td>Simple Assault</td>\n",
       "      <td>Anti-Jewish</td>\n",
       "      <td>1</td>\n",
       "    </tr>\n",
       "    <tr>\n",
       "      <th>169169</th>\n",
       "      <td>2014</td>\n",
       "      <td>South</td>\n",
       "      <td>2014-02-17</td>\n",
       "      <td>Intimidation</td>\n",
       "      <td>Anti-Black or African American</td>\n",
       "      <td>1</td>\n",
       "    </tr>\n",
       "    <tr>\n",
       "      <th>169173</th>\n",
       "      <td>2014</td>\n",
       "      <td>West</td>\n",
       "      <td>2014-01-24</td>\n",
       "      <td>Intimidation</td>\n",
       "      <td>Anti-Black or African American</td>\n",
       "      <td>1</td>\n",
       "    </tr>\n",
       "    <tr>\n",
       "      <th>169174</th>\n",
       "      <td>2014</td>\n",
       "      <td>West</td>\n",
       "      <td>2014-01-24</td>\n",
       "      <td>Intimidation</td>\n",
       "      <td>Anti-Gay (Male)</td>\n",
       "      <td>1</td>\n",
       "    </tr>\n",
       "    <tr>\n",
       "      <th>169175</th>\n",
       "      <td>2014</td>\n",
       "      <td>West</td>\n",
       "      <td>2014-01-28</td>\n",
       "      <td>Simple Assault</td>\n",
       "      <td>Anti-Gay (Male)</td>\n",
       "      <td>1</td>\n",
       "    </tr>\n",
       "  </tbody>\n",
       "</table>\n",
       "</div>"
      ],
      "text/plain": [
       "        DATA_YEAR REGION_NAME INCIDENT_DATE    OFFENSE_NAME  \\\n",
       "169153       2014       South    2014-03-22  Simple Assault   \n",
       "169169       2014       South    2014-02-17    Intimidation   \n",
       "169173       2014        West    2014-01-24    Intimidation   \n",
       "169174       2014        West    2014-01-24    Intimidation   \n",
       "169175       2014        West    2014-01-28  Simple Assault   \n",
       "\n",
       "                             BIAS_DESC  Quarter  \n",
       "169153                     Anti-Jewish        1  \n",
       "169169  Anti-Black or African American        1  \n",
       "169173  Anti-Black or African American        1  \n",
       "169174                 Anti-Gay (Male)        1  \n",
       "169175                 Anti-Gay (Male)        1  "
      ]
     },
     "execution_count": 8,
     "metadata": {},
     "output_type": "execute_result"
    }
   ],
   "source": [
    "#Seperate all of Quarter 1 \n",
    "Q1 = year_filter[(year_filter[\"Quarter\"]==1)]\n",
    "\n",
    "Q1.head()"
   ]
  },
  {
   "cell_type": "code",
   "execution_count": 9,
   "metadata": {},
   "outputs": [
    {
     "data": {
      "text/plain": [
       "Destruction/Damage/Vandalism of Property                                                1925\n",
       "Intimidation                                                                            1795\n",
       "Simple Assault                                                                          1422\n",
       "Aggravated Assault                                                                       687\n",
       "Burglary/Breaking & Entering                                                             155\n",
       "                                                                                        ... \n",
       "Counterfeiting/Forgery;Embezzlement                                                        1\n",
       "Burglary/Breaking & Entering;Intimidation;Simple Assault                                   1\n",
       "Aggravated Assault;Destruction/Damage/Vandalism of Property;Stolen Property Offenses       1\n",
       "Burglary/Breaking & Entering;Simple Assault                                                1\n",
       "Aggravated Assault;Destruction/Damage/Vandalism of Property;Intimidation;Shoplifting       1\n",
       "Name: OFFENSE_NAME, Length: 100, dtype: int64"
      ]
     },
     "execution_count": 9,
     "metadata": {},
     "output_type": "execute_result"
    }
   ],
   "source": [
    "#number of offenses\n",
    "Q1[\"OFFENSE_NAME\"].value_counts()"
   ]
  },
  {
   "cell_type": "code",
   "execution_count": 25,
   "metadata": {},
   "outputs": [],
   "source": [
    "sim_offense1 = Q1.replace({\n",
    "   \" Aggravated Assault;All Other\":\"Aggravated Assualt\", \"Intimidation;Simple Assault\": \"Simple Assault\"})"
   ]
  },
  {
   "cell_type": "code",
   "execution_count": 26,
   "metadata": {},
   "outputs": [],
   "source": [
    "counts = sim_offense1[\"OFFENSE_NAME\"].value_counts()\n",
    "\n",
    "#drop counts of crime less than one percent for a cleaner pie chart\n",
    "counts = counts.where(counts>100).dropna(how=\"any\")"
   ]
  },
  {
   "cell_type": "code",
   "execution_count": 27,
   "metadata": {},
   "outputs": [
    {
     "data": {
      "image/png": "[encoded data removed]",
      "text/plain": [
       "<Figure size 432x288 with 1 Axes>"
      ]
     },
     "metadata": {},
     "output_type": "display_data"
    }
   ],
   "source": [
    "#pie chart for Q1 offense\n",
    "\n",
    "plt.pie(counts.values, labels=counts.index.values, autopct=\"%1.1f%%\")\n",
    "plt.xlabel(\"Quarter 1: 2014-18\")\n",
    "plt.show()"
   ]
  },
  {
   "cell_type": "markdown",
   "metadata": {},
   "source": [
    "Quarter 2 2014-2018"
   ]
  },
  {
   "cell_type": "code",
   "execution_count": 22,
   "metadata": {},
   "outputs": [],
   "source": [
    "#filter out all of Quarter 2\n",
    "Q2 = year_filter[(year_filter[\"Quarter\"]==2)]"
   ]
  },
  {
   "cell_type": "code",
   "execution_count": 24,
   "metadata": {},
   "outputs": [
    {
     "data": {
      "text/plain": [
       "Destruction/Damage/Vandalism of Property                                              2357\n",
       "Intimidation                                                                          2015\n",
       "Simple Assault                                                                        1901\n",
       "Aggravated Assault                                                                     890\n",
       "Robbery                                                                                173\n",
       "                                                                                      ... \n",
       "Aggravated Assault;Not Specified                                                         1\n",
       "Credit Card/Automated Teller Machine Fraud;False Pretenses/Swindle/Confidence Game       1\n",
       "Intimidation;Not Specified                                                               1\n",
       "Bribery                                                                                  1\n",
       "Counterfeiting/Forgery;False Pretenses/Swindle/Confidence Game                           1\n",
       "Name: OFFENSE_NAME, Length: 101, dtype: int64"
      ]
     },
     "execution_count": 24,
     "metadata": {},
     "output_type": "execute_result"
    }
   ],
   "source": [
    "Q2[\"OFFENSE_NAME\"].value_counts()"
   ]
  },
  {
   "cell_type": "code",
   "execution_count": 28,
   "metadata": {},
   "outputs": [],
   "source": [
    "sim_offense2 = Q2.replace({\n",
    "   \" Aggravated Assault;All Other\":\"Aggravated Assualt\", \"Intimidation;Simple Assault\": \"Simple Assault\"})"
   ]
  },
  {
   "cell_type": "code",
   "execution_count": 33,
   "metadata": {},
   "outputs": [],
   "source": [
    "count2 = sim_offense2[\"OFFENSE_NAME\"].value_counts()\n",
    "\n",
    "#drop counts of crime less than one percent for a cleaner pie chart\n",
    "count2 = count2.where(count2>100).dropna(how=\"any\")"
   ]
  },
  {
   "cell_type": "code",
   "execution_count": 34,
   "metadata": {},
   "outputs": [
    {
     "data": {
      "image/png": "[encoded data removed]",
      "text/plain": [
       "<Figure size 432x288 with 1 Axes>"
      ]
     },
     "metadata": {},
     "output_type": "display_data"
    }
   ],
   "source": [
    "#pie chart for Q2 offense\n",
    "plt.pie(count2.values, labels=count2.index.values, autopct=\"%1.1f%%\")\n",
    "plt.xlabel(\"Quarter 2: 2014-18\")\n",
    "plt.show()"
   ]
  },
  {
   "cell_type": "markdown",
   "metadata": {},
   "source": [
    "Quarter 3 2014-2018"
   ]
  },
  {
   "cell_type": "code",
   "execution_count": 38,
   "metadata": {},
   "outputs": [],
   "source": [
    "#filter out all of Quarter 3\n",
    "Q3 = year_filter[(year_filter[\"Quarter\"]==3)]"
   ]
  },
  {
   "cell_type": "code",
   "execution_count": 39,
   "metadata": {},
   "outputs": [
    {
     "data": {
      "text/plain": [
       "Destruction/Damage/Vandalism of Property                     2331\n",
       "Intimidation                                                 2115\n",
       "Simple Assault                                               1954\n",
       "Aggravated Assault                                            968\n",
       "All Other Larceny                                             159\n",
       "                                                             ... \n",
       "Aggravated Assault;Prostitution;Simple Assault                  1\n",
       "All Other Larceny;False Pretenses/Swindle/Confidence Game       1\n",
       "Robbery;Shoplifting                                             1\n",
       "Human Trafficking, Commercial Sex Acts                          1\n",
       "Burglary/Breaking & Entering;Not Specified                      1\n",
       "Name: OFFENSE_NAME, Length: 122, dtype: int64"
      ]
     },
     "execution_count": 39,
     "metadata": {},
     "output_type": "execute_result"
    }
   ],
   "source": [
    "Q3[\"OFFENSE_NAME\"].value_counts()"
   ]
  },
  {
   "cell_type": "code",
   "execution_count": 40,
   "metadata": {},
   "outputs": [],
   "source": [
    "sim_offense3 = Q3.replace({\n",
    "   \" Aggravated Assault;All Other\":\"Aggravated Assualt\", \"Intimidation;Simple Assault\": \"Simple Assault\"})"
   ]
  },
  {
   "cell_type": "code",
   "execution_count": 41,
   "metadata": {},
   "outputs": [],
   "source": [
    "count3 = sim_offense3[\"OFFENSE_NAME\"].value_counts()\n",
    "\n",
    "#drop counts of crime less than one percent for a cleaner pie chart\n",
    "count3 = count3.where(count3>100).dropna(how=\"any\")"
   ]
  },
  {
   "cell_type": "code",
   "execution_count": 42,
   "metadata": {},
   "outputs": [
    {
     "data": {
      "image/png": "[encoded data removed]",
      "text/plain": [
       "<Figure size 432x288 with 1 Axes>"
      ]
     },
     "metadata": {},
     "output_type": "display_data"
    }
   ],
   "source": [
    "#pie chart for Q3 offense\n",
    "plt.pie(count3.values, labels=count3.index.values, autopct=\"%1.1f%%\")\n",
    "plt.xlabel(\"Quarter 3: 2014-18\")\n",
    "plt.show()"
   ]
  },
  {
   "cell_type": "markdown",
   "metadata": {},
   "source": [
    "Quarter 4 2014-2018"
   ]
  },
  {
   "cell_type": "code",
   "execution_count": 43,
   "metadata": {},
   "outputs": [],
   "source": [
    "#filter out all of Quarter 4\n",
    "Q4 = year_filter[(year_filter[\"Quarter\"]==4)]"
   ]
  },
  {
   "cell_type": "code",
   "execution_count": 44,
   "metadata": {},
   "outputs": [
    {
     "data": {
      "text/plain": [
       "Destruction/Damage/Vandalism of Property                                                                  2412\n",
       "Intimidation                                                                                              1997\n",
       "Simple Assault                                                                                            1698\n",
       "Aggravated Assault                                                                                         733\n",
       "Robbery                                                                                                    145\n",
       "                                                                                                          ... \n",
       "Counterfeiting/Forgery;Destruction/Damage/Vandalism of Property;Drug/Narcotic Violations;Impersonation       1\n",
       "Arson;Theft From Motor Vehicle                                                                               1\n",
       "Aggravated Assault;All Other Larceny                                                                         1\n",
       "Aggravated Assault;Intimidation;Simple Assault                                                               1\n",
       "Burglary/Breaking & Entering;Not Specified                                                                   1\n",
       "Name: OFFENSE_NAME, Length: 119, dtype: int64"
      ]
     },
     "execution_count": 44,
     "metadata": {},
     "output_type": "execute_result"
    }
   ],
   "source": [
    "Q4[\"OFFENSE_NAME\"].value_counts()"
   ]
  },
  {
   "cell_type": "code",
   "execution_count": 45,
   "metadata": {},
   "outputs": [],
   "source": [
    "sim_offense4 = Q4.replace({\n",
    "   \" Aggravated Assault;All Other\":\"Aggravated Assualt\", \"Intimidation;Simple Assault\": \"Simple Assault\"})"
   ]
  },
  {
   "cell_type": "code",
   "execution_count": 46,
   "metadata": {},
   "outputs": [],
   "source": [
    "count4 = sim_offense4[\"OFFENSE_NAME\"].value_counts()\n",
    "\n",
    "#drop counts of crime less than one percent for a cleaner pie chart\n",
    "count4= count4.where(count4>100).dropna(how=\"any\")"
   ]
  },
  {
   "cell_type": "code",
   "execution_count": 47,
   "metadata": {},
   "outputs": [
    {
     "data": {
      "image/png": "[encoded data removed]",
      "text/plain": [
       "<Figure size 432x288 with 1 Axes>"
      ]
     },
     "metadata": {},
     "output_type": "display_data"
    }
   ],
   "source": [
    "#pie chart for Q3 offense\n",
    "plt.pie(count4.values, labels=count4.index.values, autopct=\"%1.1f%%\")\n",
    "plt.xlabel(\"Quarter 4: 2014-18\")\n",
    "plt.show()"
   ]
  },
  {
   "cell_type": "code",
   "execution_count": null,
   "metadata": {},
   "outputs": [],
   "source": []
  }
 ],
 "metadata": {
  "kernelspec": {
   "display_name": "Python 3",
   "language": "python",
   "name": "python3"
  },
  "language_info": {
   "codemirror_mode": {
    "name": "ipython",
    "version": 3
   },
   "file_extension": ".py",
   "mimetype": "text/x-python",
   "name": "python",
   "nbconvert_exporter": "python",
   "pygments_lexer": "ipython3",
   "version": "3.7.6"
  }
 },
 "nbformat": 4,
 "nbformat_minor": 4
}
